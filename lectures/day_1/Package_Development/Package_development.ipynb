{
 "cells": [
  {
   "cell_type": "code",
   "execution_count": null,
   "metadata": {
    "collapsed": true,
    "slideshow": {
     "slide_type": "skip"
    }
   },
   "outputs": [],
   "source": [
    "from IPython.core.interactiveshell import InteractiveShell\n",
    "InteractiveShell.ast_node_interactivity = \"all\""
   ]
  },
  {
   "cell_type": "markdown",
   "metadata": {
    "slideshow": {
     "slide_type": "slide"
    }
   },
   "source": [
    "A __module__ is a Python file (extension .py) that contains Python definitions, functions, classes and statements.\n",
    "\n",
    "We use the __import__ statement to gain access to all attributes and functions present in the __module__.\n",
    "\n",
    "Access to functions and attributes is accomplished using the __module.method__ syntax."
   ]
  },
  {
   "cell_type": "markdown",
   "metadata": {
    "slideshow": {
     "slide_type": "slide"
    }
   },
   "source": [
    "__modules__:\n",
    "  \n",
    "+ Logically organize Python code\n",
    "+ Group related code into a file - easier to understand and use"
   ]
  },
  {
   "cell_type": "code",
   "execution_count": 8,
   "metadata": {
    "collapsed": false,
    "slideshow": {
     "slide_type": "slide"
    }
   },
   "outputs": [
    {
     "name": "stdout",
     "output_type": "stream",
     "text": [
      "# area.py\r\n",
      "import math\r\n",
      "\r\n",
      "def circle_area(radius):\r\n",
      "    return math.pi * radius * radius\r\n",
      "\r\n",
      "def square_area(side):\r\n",
      "    return side * side\r\n",
      "\r\n",
      "def rectangle_area(width, height):\r\n",
      "    return width * height\r\n"
     ]
    }
   ],
   "source": [
    "!cat area.py"
   ]
  },
  {
   "cell_type": "code",
   "execution_count": 6,
   "metadata": {
    "collapsed": false
   },
   "outputs": [
    {
     "name": "stdout",
     "output_type": "stream",
     "text": [
      "['__builtins__', '__doc__', '__file__', '__name__', '__package__', 'circle_area', 'math', 'rectangle_area', 'square_area']\n"
     ]
    }
   ],
   "source": [
    "import area\n",
    "print (dir(area))"
   ]
  },
  {
   "cell_type": "code",
   "execution_count": 4,
   "metadata": {
    "collapsed": false,
    "slideshow": {
     "slide_type": "slide"
    }
   },
   "outputs": [
    {
     "name": "stdout",
     "output_type": "stream",
     "text": [
      "3.14159265359\n",
      "1\n",
      "6\n"
     ]
    }
   ],
   "source": [
    "print area.circle_area(1)\n",
    "print area.square_area(1)\n",
    "print area.rectangle_area(2, 3)"
   ]
  },
  {
   "cell_type": "code",
   "execution_count": 5,
   "metadata": {
    "collapsed": false,
    "slideshow": {
     "slide_type": "fragment"
    }
   },
   "outputs": [
    {
     "name": "stdout",
     "output_type": "stream",
     "text": [
      "3.14159265359\n"
     ]
    }
   ],
   "source": [
    "from area import circle_area # Careful when using this\n",
    "print circle_area(1)"
   ]
  },
  {
   "cell_type": "code",
   "execution_count": null,
   "metadata": {
    "collapsed": true,
    "slideshow": {
     "slide_type": "fragment"
    }
   },
   "outputs": [],
   "source": [
    "from area import *  # Discouraged"
   ]
  },
  {
   "cell_type": "markdown",
   "metadata": {
    "slideshow": {
     "slide_type": "slide"
    }
   },
   "source": [
    "When python runs a module it sets up a bunch of variables - one of then is \\_\\_name\\_\\_. \n",
    "\n",
    "\\_\\_name\\_\\_ is set equal to \"\\_\\_main\\_\\_\" when the module is run as a standalone file\n",
    "\n",
    "\\_\\_name\\_\\_ is set to its module name when the module is imported"
   ]
  },
  {
   "cell_type": "markdown",
   "metadata": {
    "slideshow": {
     "slide_type": "slide"
    }
   },
   "source": [
    "When you see the following line in a module:\n",
    "    \n",
    "```python\n",
    "if __name__ == '__main__':\n",
    "    # Python code\n",
    "```\n",
    "\n",
    "it means that we want to be able to test and run the module separately other than just importing it.\n",
    "        "
   ]
  },
  {
   "cell_type": "code",
   "execution_count": 10,
   "metadata": {
    "collapsed": false,
    "slideshow": {
     "slide_type": "skip"
    }
   },
   "outputs": [],
   "source": [
    "!python area.py"
   ]
  },
  {
   "cell_type": "markdown",
   "metadata": {
    "slideshow": {
     "slide_type": "slide"
    }
   },
   "source": [
    "A __package__ is a directory of python modules."
   ]
  },
  {
   "cell_type": "markdown",
   "metadata": {
    "slideshow": {
     "slide_type": "fragment"
    }
   },
   "source": [
    "__packages__:\n",
    "\n",
    "+ Structure namespace using \"dotted module names\"\n",
    "+ Can avoid module name collisions"
   ]
  },
  {
   "cell_type": "markdown",
   "metadata": {
    "slideshow": {
     "slide_type": "fragment"
    }
   },
   "source": [
    "```\n",
    "package/\n",
    "    __init__.py\n",
    "    file.py\n",
    "    file1.py\n",
    "    file2.py\n",
    "    subpackage/\n",
    "        __init__.py\n",
    "        submodule1.py\n",
    "        submodule2.py\n",
    "```"
   ]
  },
  {
   "cell_type": "code",
   "execution_count": null,
   "metadata": {
    "collapsed": true,
    "slideshow": {
     "slide_type": "slide"
    }
   },
   "outputs": [],
   "source": [
    "from package.file import File"
   ]
  },
  {
   "cell_type": "code",
   "execution_count": null,
   "metadata": {
    "collapsed": true,
    "slideshow": {
     "slide_type": "fragment"
    }
   },
   "outputs": [],
   "source": [
    "# in your __init__.py\n",
    "from file import File\n",
    "\n",
    "# now import File from package\n",
    "from package import File"
   ]
  },
  {
   "cell_type": "markdown",
   "metadata": {
    "slideshow": {
     "slide_type": "slide"
    }
   },
   "source": [
    "How does Python find packages and modules?\n",
    "\n",
    "Python imports work by searching the directories listed in sys.path. "
   ]
  },
  {
   "cell_type": "code",
   "execution_count": 1,
   "metadata": {
    "collapsed": false,
    "slideshow": {
     "slide_type": "fragment"
    }
   },
   "outputs": [
    {
     "name": "stdout",
     "output_type": "stream",
     "text": [
      "\n",
      "/Users/ccruz/tools/anaconda2/lib/python27.zip\n",
      "/Users/ccruz/tools/anaconda2/lib/python2.7\n",
      "/Users/ccruz/tools/anaconda2/lib/python2.7/plat-darwin\n",
      "/Users/ccruz/tools/anaconda2/lib/python2.7/plat-mac\n",
      "/Users/ccruz/tools/anaconda2/lib/python2.7/plat-mac/lib-scriptpackages\n",
      "/Users/ccruz/tools/anaconda2/lib/python2.7/lib-tk\n",
      "/Users/ccruz/tools/anaconda2/lib/python2.7/lib-old\n",
      "/Users/ccruz/tools/anaconda2/lib/python2.7/lib-dynload\n",
      "/Users/ccruz/tools/anaconda2/lib/python2.7/site-packages\n",
      "/Users/ccruz/tools/anaconda2/lib/python2.7/site-packages/Sphinx-1.4.6-py2.7.egg\n",
      "/Users/ccruz/tools/anaconda2/lib/python2.7/site-packages/aeosa\n",
      "/Users/ccruz/tools/anaconda2/lib/python2.7/site-packages/setuptools-27.2.0-py2.7.egg\n",
      "/Users/ccruz/tools/anaconda2/lib/python2.7/site-packages/sputnik-0.9.3-py2.7.egg\n",
      "/Users/ccruz/tools/anaconda2/lib/python2.7/site-packages/IPython/extensions\n",
      "/Users/ccruz/.ipython\n"
     ]
    }
   ],
   "source": [
    "import sys\n",
    "print '\\n'.join(sys.path)"
   ]
  },
  {
   "cell_type": "code",
   "execution_count": 2,
   "metadata": {
    "collapsed": false,
    "slideshow": {
     "slide_type": "slide"
    }
   },
   "outputs": [
    {
     "name": "stdout",
     "output_type": "stream",
     "text": [
      "/Users/ccruz/tools/anaconda2/lib/python2.7/site-packages/numpy/__init__.pyc\n"
     ]
    }
   ],
   "source": [
    "# where the module is in your filesystem\n",
    "import numpy\n",
    "print numpy.__file__"
   ]
  },
  {
   "cell_type": "code",
   "execution_count": 3,
   "metadata": {
    "collapsed": false,
    "slideshow": {
     "slide_type": "slide"
    }
   },
   "outputs": [
    {
     "data": {
      "text/plain": [
       "(None,\n",
       " '/Users/ccruz/tools/anaconda2/lib/python2.7/site-packages/numpy',\n",
       " ('', '', 5))"
      ]
     },
     "execution_count": 3,
     "metadata": {},
     "output_type": "execute_result"
    }
   ],
   "source": [
    "# explore entire import system through the imp module.\n",
    "import imp\n",
    "imp.find_module('numpy')"
   ]
  },
  {
   "cell_type": "code",
   "execution_count": 3,
   "metadata": {
    "collapsed": false,
    "slideshow": {
     "slide_type": "slide"
    }
   },
   "outputs": [
    {
     "name": "stdout",
     "output_type": "stream",
     "text": [
      "/Users/ccruz/scratch/gsfcbootcamp/lectures/day_1/Package_Development/area.py\n"
     ]
    }
   ],
   "source": [
    "# Getting file path of imported module\n",
    "import os.path\n",
    "import area\n",
    "\n",
    "print os.path.abspath(area.__file__)"
   ]
  }
 ],
 "metadata": {
  "anaconda-cloud": {},
  "celltoolbar": "Slideshow",
  "kernelspec": {
   "display_name": "Python [conda root]",
   "language": "python",
   "name": "conda-root-py"
  },
  "language_info": {
   "codemirror_mode": {
    "name": "ipython",
    "version": 2
   },
   "file_extension": ".py",
   "mimetype": "text/x-python",
   "name": "python",
   "nbconvert_exporter": "python",
   "pygments_lexer": "ipython2",
   "version": "2.7.12"
  }
 },
 "nbformat": 4,
 "nbformat_minor": 1
}
