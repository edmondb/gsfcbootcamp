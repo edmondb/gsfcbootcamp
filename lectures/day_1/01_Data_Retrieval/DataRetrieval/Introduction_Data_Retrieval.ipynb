{
 "cells": [
  {
   "cell_type": "markdown",
   "metadata": {},
   "source": [
    "# Tools for Data Retrieval "
   ]
  },
  {
   "cell_type": "markdown",
   "metadata": {},
   "source": [
    "The goal is to present few Python tools to retrieve remote files/data.\n",
    "<BR>\n",
    "We will be covered:\n",
    "<UL>\n",
    "<LI> File Transfer Protocol (FTP)\n",
    "<LI> WGET\n",
    "<LI> JSON\n",
    "</UL>"
   ]
  },
  {
   "cell_type": "markdown",
   "metadata": {},
   "source": [
    "## FTP"
   ]
  },
  {
   "cell_type": "markdown",
   "metadata": {},
   "source": [
    "<UL>\n",
    "<LI> FTP (File Transfer Protocol) is a fast and convenient way to transfer files over the Internet. \n",
    "<LI> To make FTP work, you need a client (your machine) and a server (the machine to/from which you are putting/getting files).\n",
    "</UL>"
   ]
  },
  {
   "cell_type": "markdown",
   "metadata": {},
   "source": [
    "#### Basic ftp Session"
   ]
  },
  {
   "cell_type": "code",
   "execution_count": null,
   "metadata": {
    "collapsed": true
   },
   "outputs": [],
   "source": [
    "import ftplib\n",
    "\n",
    "ftp_server = \"ftp.nluug.nl\"\n",
    "my_userid  = \"anonymous\"\n",
    "my_passwd  = \"ftplib-example-1\"\n",
    "\n",
    "ftp_session = ftplib.FTP(ftp_server)\n",
    "ftp_session.login(my_userid, my_passwd)\n",
    " \n",
    "ftp_session.quit()"
   ]
  },
  {
   "cell_type": "code",
   "execution_count": 51,
   "metadata": {
    "collapsed": true
   },
   "outputs": [],
   "source": [
    "def open_ftp_session(ftp_server, my_userid, my_passwd):\n",
    "    \"\"\"\n",
    "       Purpose: Open a ftp session given the server ftp address,\n",
    "                the user's ID and the user's password.\n",
    "       \n",
    "       Argument:\n",
    "          - ftp_server: name of the ftp server (string)\n",
    "          - my_userid:  user ID on the ftp server (string)\n",
    "          - my_passwd:  user password on the ftp server (string)\n",
    "    \"\"\"\n",
    "    \n",
    "    ftp_session = ftplib.FTP(ftp_server)\n",
    "    ftp_session.login(my_userid, my_passwd)\n",
    "    \n",
    "    return ftp_session\n",
    "\n",
    "ftp_session = open_ftp_session(ftp_server, my_userid, my_passwd)"
   ]
  },
  {
   "cell_type": "markdown",
   "metadata": {},
   "source": [
    "#### List Directories"
   ]
  },
  {
   "cell_type": "code",
   "execution_count": 52,
   "metadata": {
    "collapsed": true
   },
   "outputs": [],
   "source": [
    "def ftp_list_top_dirs(ftp_session):\n",
    "    \"\"\"\n",
    "       Purpose: List the top directories on a ftp server\n",
    "       \n",
    "       Argument:\n",
    "          - ftp_session: ftp session object\n",
    "          \n",
    "       Returned Value:\n",
    "          - List of directories and files \n",
    "           (similar to the Unix command 'ls -l')\n",
    "    \"\"\"\n",
    "    import ftplib\n",
    "    \n",
    "    ftp_session = ftplib.FTP(ftp_server)\n",
    "    ftp_session.login(my_userid, my_passwd)\n",
    " \n",
    "    data = []\n",
    "\n",
    "    # Get the list of files\n",
    "    ftp_session.dir(data.append)\n",
    "    \n",
    "    return data"
   ]
  },
  {
   "cell_type": "code",
   "execution_count": null,
   "metadata": {
    "collapsed": true
   },
   "outputs": [],
   "source": [
    "data = ftp_list_top_dirs(ftp_session)\n",
    "for line in data:\n",
    "    print \"-\", line"
   ]
  },
  {
   "cell_type": "markdown",
   "metadata": {},
   "source": [
    "#### Go to a Specific Directory"
   ]
  },
  {
   "cell_type": "code",
   "execution_count": 54,
   "metadata": {
    "collapsed": true
   },
   "outputs": [],
   "source": [
    "def ftp_dir_content(ftp_session, dir_name=None):\n",
    "    \"\"\"\n",
    "       Purpose: List the content of a diirectory in a ftp server.\n",
    "                If the directory is not provided, will list the content\n",
    "                of the top directory.\n",
    "       \n",
    "       Argument:\n",
    "          - ftp_session: ftp session object\n",
    "          - dir_name:    name of the directory you want to access (string)\n",
    "        \n",
    "       Returned Value:\n",
    "          - List of directories and files \n",
    "           (similar to the Unix command 'ls -l')\n",
    "    \"\"\" \n",
    " \n",
    "    if dir_name != None:\n",
    "        # Change directory\n",
    "        ftp_session.cwd(dir_name)\n",
    "    \n",
    "    data = []\n",
    "\n",
    "    # Get the list of files\n",
    "    ftp_session.dir(data.append)\n",
    "\n",
    "    return data"
   ]
  },
  {
   "cell_type": "code",
   "execution_count": null,
   "metadata": {
    "collapsed": true
   },
   "outputs": [],
   "source": [
    "data = ftp_dir_content(ftp_session)\n",
    "for line in data:\n",
    "    print \"-\", line"
   ]
  },
  {
   "cell_type": "code",
   "execution_count": null,
   "metadata": {
    "collapsed": true
   },
   "outputs": [],
   "source": [
    "data = ftp_dir_content(ftp_session, dir_name='pub')\n",
    "for line in data:\n",
    "    print \"-\", line"
   ]
  },
  {
   "cell_type": "markdown",
   "metadata": {},
   "source": [
    "#### Download a File"
   ]
  },
  {
   "cell_type": "code",
   "execution_count": 57,
   "metadata": {
    "collapsed": true
   },
   "outputs": [],
   "source": [
    "import sys\n",
    " \n",
    "def ftp_get_file(ftp_session, file_name):\n",
    "    \"\"\"\n",
    "         Purpose: Get a file from a ftp server\n",
    "\n",
    "         Arguments:\n",
    "              - ftp_session: ftp session object\n",
    "              - file_name: name of the file you want to download  \n",
    "    \"\"\"\n",
    "    try:\n",
    "        ftp_session.retrbinary(\"RETR \" + file_name ,open(file_name, 'wb').write)\n",
    "    except:\n",
    "        print \"Error - Cannot obtain file: \"+ file_name"
   ]
  },
  {
   "cell_type": "code",
   "execution_count": 58,
   "metadata": {},
   "outputs": [],
   "source": [
    "dir_name  = '/pub/'\n",
    "file_name = 'README.nluug'\n",
    "\n",
    "ftp_session.cwd(dir_name)   \n",
    "ftp_get_file(ftp_session, file_name)"
   ]
  },
  {
   "cell_type": "markdown",
   "metadata": {},
   "source": [
    "#### Uploading a File"
   ]
  },
  {
   "cell_type": "code",
   "execution_count": null,
   "metadata": {
    "collapsed": true
   },
   "outputs": [],
   "source": [
    "import os\n",
    " \n",
    "def ftp_put_file(ftp_session, file_name):\n",
    "    \"\"\"\n",
    "         Purpose: Put a file to a ftp server\n",
    "\n",
    "         Arguments:\n",
    "              - ftp_session: ftp session object\n",
    "              - file_name: name of the file you want to upload  \n",
    "    \"\"\"\n",
    "    file_ext = os.path.splitext(file_name)[1]\n",
    "    if file_ext in (\".txt\", \".htm\", \".html\"):\n",
    "        ftp_session.storlines(\"STOR \" + file_name, open(file_name))\n",
    "    else:\n",
    "        ftp_session.storbinary(\"STOR \" + file, open(file_mane, \"rb\"), 1024)"
   ]
  },
  {
   "cell_type": "code",
   "execution_count": null,
   "metadata": {
    "collapsed": true
   },
   "outputs": [],
   "source": [
    "ftp_put_file(ftp_session, \"README.nluug\")"
   ]
  },
  {
   "cell_type": "code",
   "execution_count": null,
   "metadata": {
    "collapsed": true
   },
   "outputs": [],
   "source": [
    "ftp_session.quit()"
   ]
  },
  {
   "cell_type": "markdown",
   "metadata": {},
   "source": [
    "## wget"
   ]
  },
  {
   "cell_type": "markdown",
   "metadata": {},
   "source": [
    "<UL>\n",
    "<LI> Command line utility for downloading files from internet.\n",
    "<LI> It supports:\n",
    "    <OL> \n",
    "    <LI> Downloading multiple files\n",
    "    <LI> Downloading in the background \n",
    "    <LI> Resuming downloads\n",
    "    <LI> Limiting the bandwidth used for downloads and viewing headers.\n",
    "    </OL>\n",
    "</UL>"
   ]
  },
  {
   "cell_type": "code",
   "execution_count": null,
   "metadata": {
    "collapsed": true
   },
   "outputs": [],
   "source": []
  },
  {
   "cell_type": "code",
   "execution_count": null,
   "metadata": {
    "collapsed": true
   },
   "outputs": [],
   "source": [
    "import urllib\n",
    "mylink = 'ftp://ftp.unidata.ucar.edu/pub/netcdf/netcdf-4.4.1.1.tar.gz'\n",
    "testfile = urllib.URLopener()\n",
    "testfile.retrieve(mylink, 'netcdf-4.4.1.1.tar.gz')"
   ]
  },
  {
   "cell_type": "code",
   "execution_count": null,
   "metadata": {
    "collapsed": true
   },
   "outputs": [],
   "source": [
    "def wget_python(url_name, loc_file_name):\n",
    "    “””\n",
    "         Purpose: Implementation of wget\n",
    "\n",
    "         Arguments:\n",
    "              - url_name: url pointing to the remote file name\n",
    "              - loc_file_name: local file name     \n",
    "    “””\n",
    "    import urllib\n",
    "    testfile = urllib.URLopener()\n",
    "    testfile.retrieve(my_url, loc_file_name)"
   ]
  },
  {
   "cell_type": "markdown",
   "metadata": {},
   "source": [
    "## JSON"
   ]
  },
  {
   "cell_type": "markdown",
   "metadata": {},
   "source": [
    "<UL>\n",
    "<LI> JSON (JavaScript Object Notation) is a text based format for computers\n",
    "to exchange data.\n",
    "<LI> It is built on two structures:\n",
    "   <OL>\n",
    "\t<LI> A collection of name/value pairs\n",
    "\t<LI> An ordered list of values.\n",
    "   </OL>\n",
    "<LI> JSON take these forms:\n",
    "     <OL>\n",
    "     <LI> <B>Objects</B>\n",
    "          <UL>\n",
    "          <LI> Unordered set of name/value pairs. \n",
    "\t      <LI> Begins with { and ends with }. \n",
    "\t      <LI> Each name is followed by : (colon) \n",
    "\t      <LI> The name/value pairs are separated by , (comma).\n",
    "          </UL>\n",
    "     <LI> <B>Array</B>\n",
    "          <UL>\n",
    "          <LI> Ordered collection of values. \n",
    "\t      <LI> Begins with [ and ends with ]. \n",
    "\t      <LI> Values are separated by , (comma).\n",
    "          </UL>\n",
    "     <LI> <B>Value</B>\n",
    "          <UL>\n",
    "          <LI> A string in double quotes, number, or true or false or null,\n",
    "\t           or an object or an array.\n",
    "          </UL>\n",
    "     <LI> <B>String</B> \n",
    "          <UL>\n",
    "          <LI> A sequence of zero or more Unicode characters, wrapped in double\n",
    "\t           quotes, using backslash escapes.\n",
    "          </UL>\n",
    "     <LI> <B>Number</B>\n",
    "          <UL>\n",
    "          <LI> Integer, Long, Float.\n",
    "          </UL>\n",
    "     </OL>\n",
    "</UL>\n",
    "<P>\n",
    "<P>\n",
    "An example of JSON data:"
   ]
  },
  {
   "cell_type": "raw",
   "metadata": {},
   "source": [
    "{\n",
    "    \"stations\": [\n",
    "        {\n",
    "            \"acronym\": “BLD”, \n",
    "            \"name\": \"Boulder Colorado\",\n",
    "            \"latitude”: 40.00,\n",
    "            \"longitude”: -105.25\n",
    "        }, \n",
    "        {\n",
    "            \"acronym”: “BHD”, \n",
    "            \"name\": \"Baring Head Wellington New Zealand\",\n",
    "            \"latitude\": -41.28,\n",
    "            \"longitude\": 174.87\n",
    "        }\n",
    "    ]\n",
    "}\n"
   ]
  },
  {
   "cell_type": "markdown",
   "metadata": {},
   "source": [
    "The json module enables you to convert between JSON and Python Objects."
   ]
  },
  {
   "cell_type": "markdown",
   "metadata": {},
   "source": [
    "#### Convert JSON to Python Object (Dict)"
   ]
  },
  {
   "cell_type": "code",
   "execution_count": null,
   "metadata": {
    "collapsed": true
   },
   "outputs": [],
   "source": [
    "import json\n",
    "json_data = '{\"acronym\": \"BLD\", \"name\": \"Boulder Colorado\", \"latitude\": 40.00, \"longitude\": -105.25}'\n",
    "python_obj = json.loads(json_data)\n",
    "print python_obj[\"name\"]\n",
    "print python_obj[\"acronym\"]\n",
    "print python_obj[\"latitude\"]\n",
    "print python_obj[\"longitude\"]"
   ]
  },
  {
   "cell_type": "markdown",
   "metadata": {},
   "source": [
    "#### Convert JSON to Python Object (List)"
   ]
  },
  {
   "cell_type": "code",
   "execution_count": null,
   "metadata": {
    "collapsed": true
   },
   "outputs": [],
   "source": [
    "import json\n",
    "\n",
    "array = '{\"drinks\": [\"coffee\", \"tea\", \"water\"]}'\n",
    "data = json.loads(array)\n",
    "\n",
    "for element in data[\"drinks\"]:\n",
    "    print element"
   ]
  },
  {
   "cell_type": "markdown",
   "metadata": {},
   "source": [
    "#### Convert JSON to Python Object "
   ]
  },
  {
   "cell_type": "code",
   "execution_count": null,
   "metadata": {
    "collapsed": true
   },
   "outputs": [],
   "source": [
    "json_input = '{\"stations\": [{\"acronym\": \"BLD\", \"name\": \"Boulder Colorado\", \"latitude\": 40.00, \"longitude\": -105.25}, {\"acronym\": \"BHD\", \"name\": \"Baring Head Wellington New Zealand\", \"latitude\": -41.28, \"longitude\": 174.87}]}'"
   ]
  },
  {
   "cell_type": "code",
   "execution_count": null,
   "metadata": {
    "collapsed": true
   },
   "outputs": [],
   "source": [
    "decoded = json.loads(json_input)\n",
    "for x in decoded['stations']:\n",
    "    print x[\"name\"]\n",
    "\n",
    "print json.dumps(decoded, sort_keys=True, indent=4)"
   ]
  },
  {
   "cell_type": "markdown",
   "metadata": {},
   "source": [
    "#### Convert Python Object (Dict) to JSON"
   ]
  },
  {
   "cell_type": "code",
   "execution_count": null,
   "metadata": {
    "collapsed": true
   },
   "outputs": [],
   "source": [
    "d = {}\n",
    "d[\"name\"] = \"Boulder Colorado\"\n",
    "d[\"acronym”] = \"BLD\"\n",
    "d[\"latitude”] = 40.00\n",
    "d[\"longitude”] = -105.25\n",
    "print json.dumps(d, ensure_ascii=False)"
   ]
  },
  {
   "cell_type": "markdown",
   "metadata": {},
   "source": [
    "## Web Scraping with json"
   ]
  },
  {
   "cell_type": "code",
   "execution_count": 16,
   "metadata": {},
   "outputs": [],
   "source": [
    "import urllib2\n",
    "import json\n",
    "\n",
    "url = \"https://www.govtrack.us/data/congress/113/votes/2013/s11/data.json\"\n",
    "page = urllib2.urlopen(url).read()\n",
    "data = json.loads(page)"
   ]
  },
  {
   "cell_type": "code",
   "execution_count": null,
   "metadata": {
    "collapsed": true
   },
   "outputs": [],
   "source": [
    "# print the keys\n",
    "for x in data:\n",
    "      print x"
   ]
  },
  {
   "cell_type": "code",
   "execution_count": null,
   "metadata": {
    "collapsed": true
   },
   "outputs": [],
   "source": [
    "# print the entire content\n",
    "print json.dumps(data, sort_keys=True, indent=4)"
   ]
  },
  {
   "cell_type": "code",
   "execution_count": null,
   "metadata": {
    "collapsed": true
   },
   "outputs": [],
   "source": [
    "# List the Yea votes\n",
    "#-------------------\n",
    "y_dem = 0\n",
    "y_rep = 0\n",
    "for x in data[\"votes\"][\"Yea\"]:\n",
    "      print x[\"first_name\"], x[\"last_name\"], '(',x[\"party\"].strip(),')'\n",
    "      if (x[\"party\"] == \"D\"): y_dem += 1\n",
    "      if (x[\"party\"] == \"R\"): y_rep += 1\n",
    "print\n",
    "print 44*'-'\n",
    "print 'The number of Democrats   who votes Yea: ', y_dem\n",
    "print 'The number of Republicans who votes Yea: ', y_rep\n",
    "print 44*'-'"
   ]
  },
  {
   "cell_type": "markdown",
   "metadata": {
    "collapsed": true
   },
   "source": [
    "#### Exercise"
   ]
  },
  {
   "cell_type": "markdown",
   "metadata": {},
   "source": [
    "Write a script that provides:\n",
    "<OL>\n",
    "  <LI> The total number of Yea\n",
    "  <LI> The total number of Nay\n",
    "  <LI> The list (in alphabetical order) of all who voted and their party affiliation (last_name, first_name (party))\n",
    "</OL>"
   ]
  },
  {
   "cell_type": "code",
   "execution_count": null,
   "metadata": {
    "collapsed": true
   },
   "outputs": [],
   "source": []
  }
 ],
 "metadata": {
  "anaconda-cloud": {},
  "kernelspec": {
   "display_name": "Python 3",
   "language": "python",
   "name": "python3"
  },
  "language_info": {
   "codemirror_mode": {
    "name": "ipython",
    "version": 3
   },
   "file_extension": ".py",
   "mimetype": "text/x-python",
   "name": "python",
   "nbconvert_exporter": "python",
   "pygments_lexer": "ipython3",
   "version": "3.6.1"
  }
 },
 "nbformat": 4,
 "nbformat_minor": 1
}
